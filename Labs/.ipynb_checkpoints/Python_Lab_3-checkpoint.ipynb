{
 "cells": [
  {
   "cell_type": "markdown",
   "metadata": {},
   "source": [
    "# Python_Lab_3\n"
   ]
  },
  {
   "cell_type": "markdown",
   "metadata": {},
   "source": [
    "### Task 1\n",
    "- Write a function named **'create_student_records'** that takes a list of tuples. Each tuple contains a student's name and their scores in three subjects. The function should return a list of dictionaries, where each dictionary represents a student with keys: name, subject1, subject2, subject3. Use list comprehension to create the list of dictionaries."
   ]
  },
  {
   "cell_type": "code",
   "execution_count": 7,
   "metadata": {},
   "outputs": [
    {
     "data": {
      "text/plain": [
       "[{'Name': 'Sara', 'Subject1': 99, 'Subject2': 90, 'Subject3': 92},\n",
       " {'Name': 'Ahmed', 'Subject1': 90, 'Subject2': 99, 'Subject3': 95},\n",
       " {'Name': 'Lama', 'Subject1': 80, 'Subject2': 89, 'Subject3': 90}]"
      ]
     },
     "execution_count": 7,
     "metadata": {},
     "output_type": "execute_result"
    }
   ],
   "source": [
    "lst_of_tuple = [(\"Sara\", 99, 90, 92), (\"Ahmed\", 90, 99, 95), (\"Lama\",80, 89, 90)]\n",
    "\n",
    "def create_student_records(lst_of_tuple):\n",
    "    students = [{\"Name\": student[0], \"Subject1\": student[1], \"Subject2\": student[2], \"Subject3\": student[3]} for student in lst_of_tuple]\n",
    "    return students\n",
    "    \n",
    "student_records = create_student_records(lst_of_tuple)\n",
    "student_records"
   ]
  },
  {
   "cell_type": "markdown",
   "metadata": {},
   "source": [
    "### Task 2\n",
    "- Write a function named **'filter_and_sort_students'** that takes the list of dictionaries from Question 1 and returns a sorted list of student names who have an average score of 80 or more across all subjects. Sort the names in alphabetical order."
   ]
  },
  {
   "cell_type": "code",
   "execution_count": 9,
   "metadata": {},
   "outputs": [
    {
     "data": {
      "text/plain": [
       "['Ahmed', 'Lama', 'Sara']"
      ]
     },
     "execution_count": 9,
     "metadata": {},
     "output_type": "execute_result"
    }
   ],
   "source": [
    "def filter_and_sort_students(students):\n",
    "    filtered_students = [student[\"Name\"] for student in students if (student[\"Subject1\"] + student[\"Subject2\"] + student[\"Subject3\"]) / 3 >= 80]\n",
    "    return sorted(filtered_students)\n",
    "    \n",
    "sorted_students = filter_and_sort_students(student_records)\n",
    "sorted_students"
   ]
  },
  {
   "cell_type": "markdown",
   "metadata": {},
   "source": [
    "### Task 3\n",
    "- Write a function named **'get_product_info'** that prompts the user to enter information about a product. The function should ask for the product name, product price, and product quantity. If the user enters an invalid input (e.g., a non-numeric value for the price or quantity), the function should handle the error and prompt the user to enter the value again. Return a dictionary containing the product information."
   ]
  },
  {
   "cell_type": "code",
   "execution_count": 11,
   "metadata": {},
   "outputs": [
    {
     "name": "stdout",
     "output_type": "stream",
     "text": [
      "Enter the product name:Phone\n",
      "Enter the product price:7000\n",
      "Enter the quantity of product:1\n"
     ]
    },
    {
     "data": {
      "text/plain": [
       "{'name': 'Phone', 'price': 7000.0, 'quantity': 1}"
      ]
     },
     "execution_count": 11,
     "metadata": {},
     "output_type": "execute_result"
    }
   ],
   "source": [
    "def get_product_info():\n",
    "    while True: \n",
    "        try: \n",
    "            product_name = input(\"Enter the product name:\")\n",
    "            product_price = float(input(\"Enter the product price:\"))\n",
    "            product_quantity = int(input(\"Enter the quantity of product:\"))\n",
    "            return {\"name\":product_name, \"price\":product_price, \"quantity\":product_quantity}\n",
    "        \n",
    "        except ValueError:\n",
    "            print(\"Invalid input. Please enter numeric values for price and quantity.\")\n",
    "            \n",
    "get_product_info()"
   ]
  },
  {
   "cell_type": "markdown",
   "metadata": {},
   "source": [
    "### Task 4\n",
    "- Write a function named **'get_even_numbers'** that takes a list of integers and returns a list of even numbers using list comprehension."
   ]
  },
  {
   "cell_type": "code",
   "execution_count": 17,
   "metadata": {},
   "outputs": [
    {
     "data": {
      "text/plain": [
       "[10, 22]"
      ]
     },
     "execution_count": 17,
     "metadata": {},
     "output_type": "execute_result"
    }
   ],
   "source": [
    "numbers = [10, 11, 23, 22,45]\n",
    "\n",
    "def get_even_numbers(numbers):\n",
    "    even_num = [num for num in numbers if num%2 == 0]\n",
    "    return even_num\n",
    "\n",
    "get_even_numbers(numbers)"
   ]
  },
  {
   "cell_type": "markdown",
   "metadata": {},
   "source": [
    "### Task 5\n",
    "- Write a function named **'pair_elements'** that takes two lists of equal length as parameters and returns a list of tuples, where each tuple contains corresponding elements from the two lists. Use the zip function to achieve this."
   ]
  },
  {
   "cell_type": "code",
   "execution_count": 19,
   "metadata": {},
   "outputs": [
    {
     "data": {
      "text/plain": [
       "[('Book_x', 'Author_1'), ('Book_z', 'Author_2')]"
      ]
     },
     "execution_count": 19,
     "metadata": {},
     "output_type": "execute_result"
    }
   ],
   "source": [
    "books = [\"Book_x\", \"Book_z\"]\n",
    "author = [\"Author_1\", \"Author_2\"]\n",
    "\n",
    "def pair_elements(books, author):\n",
    "    zipped_lst = list(zip(books, author))\n",
    "    return zipped_lst\n",
    "\n",
    "pair_elements(books, author)"
   ]
  },
  {
   "cell_type": "markdown",
   "metadata": {},
   "source": [
    "### Task 6\n",
    "- Write a function named **'square_dict_lambda'** that takes a list of integers and returns a dictionary where the keys are the integers and the values are their squares. Use a lambda function within a dictionary comprehension to achieve this."
   ]
  },
  {
   "cell_type": "code",
   "execution_count": 21,
   "metadata": {},
   "outputs": [
    {
     "data": {
      "text/plain": [
       "{1: 1, 2: 4, 3: 9, 4: 16, 5: 25, 6: 36, 7: 49, 8: 64, 9: 81}"
      ]
     },
     "execution_count": 21,
     "metadata": {},
     "output_type": "execute_result"
    }
   ],
   "source": [
    "int_num = [1,2,3,4,5,6,7,8,9]\n",
    "\n",
    "def square_dict_lambda(int_num):\n",
    "    sqr = lambda num: num **2\n",
    "    return {num: sqr(num) for num in int_num}\n",
    "\n",
    "square_dict_lambda(int_num)"
   ]
  }
 ],
 "metadata": {
  "kernelspec": {
   "display_name": "Python 3 (ipykernel)",
   "language": "python",
   "name": "python3"
  },
  "language_info": {
   "codemirror_mode": {
    "name": "ipython",
    "version": 3
   },
   "file_extension": ".py",
   "mimetype": "text/x-python",
   "name": "python",
   "nbconvert_exporter": "python",
   "pygments_lexer": "ipython3",
   "version": "3.11.5"
  }
 },
 "nbformat": 4,
 "nbformat_minor": 2
}
